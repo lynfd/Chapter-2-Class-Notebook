{
 "cells": [
  {
   "cell_type": "markdown",
   "metadata": {},
   "source": [
    "# Pygame\n",
    "Pygame is a cross-platform set of Python modules designed for writing video games. It includes computer graphics and sound libraries designed to be used with the Python programming language."
   ]
  },
  {
   "cell_type": "markdown",
   "metadata": {},
   "source": [
    "### Empty Pygame"
   ]
  },
  {
   "cell_type": "code",
   "execution_count": 1,
   "metadata": {},
   "outputs": [
    {
     "name": "stdout",
     "output_type": "stream",
     "text": [
      "Collecting pygame\n",
      "  Downloading pygame-2.1.2-cp38-cp38-win_amd64.whl (8.4 MB)\n",
      "Installing collected packages: pygame\n",
      "Successfully installed pygame-2.1.2\n"
     ]
    }
   ],
   "source": [
    "!pip install pygame "
   ]
  },
  {
   "cell_type": "markdown",
   "metadata": {},
   "source": [
    "#### 1.  import pygame to import all modules and .init() function to initialize those modules"
   ]
  },
  {
   "cell_type": "markdown",
   "metadata": {},
   "source": [
    "#### 2. Initialize a window to display. We use .set_mode() function to create a window. "
   ]
  },
  {
   "cell_type": "markdown",
   "metadata": {},
   "source": [
    "#### 3. Keep that window running until the user presses the exit button."
   ]
  },
  {
   "cell_type": "code",
   "execution_count": 3,
   "metadata": {},
   "outputs": [],
   "source": [
    "import pygame\n",
    "pygame.init()\n",
    "\n",
    "#Create the game window\n",
    "WIDTH=500\n",
    "HEIGHT=400\n",
    "\n",
    "surface=pygame.display.set_mode((WIDTH,HEIGHT))\n",
    "\n",
    "active=True\n",
    "while active:\n",
    "    for event in pygame.event.get():\n",
    "        if event.type==pygame.QUIT:\n",
    "            active=False\n",
    "pygame.quit()"
   ]
  },
  {
   "cell_type": "code",
   "execution_count": null,
   "metadata": {},
   "outputs": [],
   "source": []
  },
  {
   "cell_type": "markdown",
   "metadata": {},
   "source": [
    "#### fill(): This method is used to fill the display with the color specified."
   ]
  },
  {
   "cell_type": "code",
   "execution_count": 4,
   "metadata": {},
   "outputs": [],
   "source": [
    "import pygame\n",
    "pygame.init()\n",
    "\n",
    "surface=pygame.display.set_mode((500,400))\n",
    "\n",
    "pygame.display.set_caption(\"Coloured Window\")\n",
    "\n",
    "#RGB Colours\n",
    "WHITE=(255,255,255)\n",
    "BLACK=(0,0,0)\n",
    "RED=(255,0,0)\n",
    "GREEN=(0,255,0)\n",
    "BLUE=(0,0,255)\n",
    "\n",
    "surface.fill(GREEN)\n",
    "\n",
    "pygame.display.flip() #Without this line the user will not see anything.\n",
    "\n",
    "active=True\n",
    "while active:\n",
    "    for event in pygame.event.get():\n",
    "        if event.type==pygame.QUIT:\n",
    "            active=False\n",
    "pygame.quit()"
   ]
  },
  {
   "cell_type": "code",
   "execution_count": null,
   "metadata": {},
   "outputs": [],
   "source": []
  },
  {
   "cell_type": "code",
   "execution_count": null,
   "metadata": {},
   "outputs": [],
   "source": []
  },
  {
   "cell_type": "markdown",
   "metadata": {},
   "source": [
    "## Adding Text in Pygame\n",
    "https://www.pygame.org/docs/ref/font.html/"
   ]
  },
  {
   "cell_type": "code",
   "execution_count": 13,
   "metadata": {},
   "outputs": [],
   "source": [
    "import pygame\n",
    "pygame.init()\n",
    "\n",
    "surface=pygame.display.set_mode((500,400))\n",
    "\n",
    "pygame.display.set_caption(\"Coloured Window\")\n",
    "\n",
    "#RGB Colours\n",
    "WHITE=(255,255,255)\n",
    "BLACK=(0,0,0)\n",
    "RED=(255,0,0)\n",
    "GREEN=(0,255,0)\n",
    "BLUE=(0,0,255)\n",
    "\n",
    "surface.fill(BLACK)\n",
    "\n",
    "pygame.display.flip() #Without this line the user will not see anything.\n",
    "\n",
    "font=pygame.font.Font('freesansbold.ttf',48)\n",
    "\n",
    "text=font.render(\"Lyn Detwiler\", True, BLACK, WHITE)\n",
    "\n",
    "textRect=text.get_rect()\n",
    "X=500\n",
    "Y=400\n",
    "textRect.center=(X//2,Y//2)\n",
    "\n",
    "active=True\n",
    "while active:\n",
    "    surface.blit(text,textRect)\n",
    "    for event in pygame.event.get():\n",
    "        if event.type==pygame.QUIT:\n",
    "            active=False\n",
    "        pygame.display.update()\n",
    "pygame.quit()"
   ]
  },
  {
   "cell_type": "code",
   "execution_count": null,
   "metadata": {},
   "outputs": [],
   "source": []
  },
  {
   "cell_type": "markdown",
   "metadata": {},
   "source": [
    "## Adding Images "
   ]
  },
  {
   "cell_type": "code",
   "execution_count": 4,
   "metadata": {},
   "outputs": [],
   "source": [
    "import pygame\n",
    "pygame.init()\n",
    "\n",
    "#Create the game window\n",
    "WIDTH=500\n",
    "HEIGHT=400\n",
    "\n",
    "surface=pygame.display.set_mode((WIDTH,HEIGHT))\n",
    "\n",
    "pygame.display.set_caption(\"Adding images to Pygame Window\")\n",
    "img=pygame.image.load(\"98c.jpg\").convert()\n",
    "resized_img=pygame.transform.scale(img,(300,200))\n",
    "x=100\n",
    "y=100\n",
    "\n",
    "surface.blit(resized_img,(x,y))\n",
    "\n",
    "pygame.display.flip()\n",
    "\n",
    "active=True\n",
    "while active:\n",
    "    for event in pygame.event.get():\n",
    "        if event.type==pygame.QUIT:\n",
    "            active=False\n",
    "pygame.quit()"
   ]
  },
  {
   "cell_type": "code",
   "execution_count": null,
   "metadata": {},
   "outputs": [],
   "source": []
  },
  {
   "cell_type": "code",
   "execution_count": null,
   "metadata": {},
   "outputs": [],
   "source": []
  },
  {
   "cell_type": "markdown",
   "metadata": {},
   "source": [
    "## Adding music to the Pygame"
   ]
  },
  {
   "cell_type": "code",
   "execution_count": null,
   "metadata": {},
   "outputs": [
    {
     "name": "stdout",
     "output_type": "stream",
     "text": [
      "pygame 2.1.2 (SDL 2.0.18, Python 3.8.3)\n",
      "Hello from the pygame community. https://www.pygame.org/contribute.html\n",
      "Pres p to pause, r to resume, e for exit.\n",
      " e\n",
      "Pres p to pause, r to resume, e for exit.\n"
     ]
    }
   ],
   "source": [
    "import pygame\n",
    "from pygame import mixer\n",
    "\n",
    "mixer.init()\n",
    "mixer.music.load(\"music1.mp3\")\n",
    "mixer.music.set_volume(0.7)\n",
    "\n",
    "#start playing the song\n",
    "mixer.music.play()\n",
    "\n",
    "while True:\n",
    "    print(\"Pres p to pause, r to resume, e for exit.\")\n",
    "    query=input(\" \")\n",
    "    \n",
    "    if query.lower=='p':\n",
    "        mixer.music.pause()\n",
    "    elif query.lower=='r':\n",
    "        mixer.music.unpause()\n",
    "    elif query.lower=='e':\n",
    "        mixer.music.stop()\n",
    "        break"
   ]
  },
  {
   "cell_type": "code",
   "execution_count": null,
   "metadata": {},
   "outputs": [],
   "source": []
  },
  {
   "cell_type": "code",
   "execution_count": null,
   "metadata": {},
   "outputs": [],
   "source": []
  },
  {
   "cell_type": "markdown",
   "metadata": {},
   "source": [
    "## Drawing on the screen\n",
    "- pygame.draw.rect(Surface, color, Rect, width=0)\n",
    "- pygame.draw.polygon(Surface, color, pointlist, width=0)\n",
    "- pygame.draw.circle(Surface, color, pos, radius, width=0)\n",
    "- pygame.draw.ellipse(Surface, color, Rect, width=0)\n",
    "- pygame.draw.arc(Surface, color, Rect, start_angle, stop_angle, width=1)\n",
    "- pygame.draw.line(Surface, color, start_pos, end_pos, width=1)"
   ]
  },
  {
   "cell_type": "code",
   "execution_count": null,
   "metadata": {},
   "outputs": [],
   "source": []
  },
  {
   "cell_type": "code",
   "execution_count": null,
   "metadata": {},
   "outputs": [],
   "source": []
  },
  {
   "cell_type": "code",
   "execution_count": null,
   "metadata": {},
   "outputs": [],
   "source": []
  },
  {
   "cell_type": "markdown",
   "metadata": {},
   "source": [
    "#### Rectangle with no color filled inside"
   ]
  },
  {
   "cell_type": "code",
   "execution_count": null,
   "metadata": {},
   "outputs": [],
   "source": []
  },
  {
   "cell_type": "code",
   "execution_count": null,
   "metadata": {},
   "outputs": [],
   "source": []
  },
  {
   "cell_type": "code",
   "execution_count": null,
   "metadata": {},
   "outputs": [],
   "source": []
  },
  {
   "cell_type": "markdown",
   "metadata": {},
   "source": [
    "#### Polygon()\n",
    "pygame.draw.polygon(Surface, color, pointlist, width=0)\n",
    "#### Circle\n",
    "pygame.draw.circle(Surface, color, pos, radius, width=0)\n",
    "\n",
    "#### Line\n",
    "pygame.draw.line(Surface, color, start_pos, end_pos, width=1)"
   ]
  },
  {
   "cell_type": "code",
   "execution_count": null,
   "metadata": {},
   "outputs": [],
   "source": []
  },
  {
   "cell_type": "code",
   "execution_count": null,
   "metadata": {},
   "outputs": [],
   "source": []
  },
  {
   "cell_type": "code",
   "execution_count": null,
   "metadata": {},
   "outputs": [],
   "source": []
  },
  {
   "cell_type": "markdown",
   "metadata": {},
   "source": [
    "### keyboard input\n",
    "1. Detecting which key was pressed\n",
    "https://www.pygame.org/docs/ref/key.html\n"
   ]
  },
  {
   "cell_type": "code",
   "execution_count": null,
   "metadata": {},
   "outputs": [],
   "source": []
  },
  {
   "cell_type": "code",
   "execution_count": null,
   "metadata": {},
   "outputs": [],
   "source": []
  },
  {
   "cell_type": "code",
   "execution_count": null,
   "metadata": {},
   "outputs": [],
   "source": []
  },
  {
   "cell_type": "markdown",
   "metadata": {},
   "source": [
    "### Practice: Create key pressed for\n",
    "- escape\n",
    "- space\n",
    "- forward slash\n",
    "- 5\n",
    "- semicolon"
   ]
  },
  {
   "cell_type": "markdown",
   "metadata": {},
   "source": [
    "## Your First game: Moving Rectangle\n",
    "- Left arrow key: Decrement in x co-ordinate\n",
    "- Right arrow key: Increment in x co-ordinate\n",
    "- Up arrow key: Decrement in y co-ordinate\n",
    "- Down arrow key: Increment in y co-ordinate"
   ]
  },
  {
   "cell_type": "code",
   "execution_count": null,
   "metadata": {},
   "outputs": [],
   "source": []
  },
  {
   "cell_type": "code",
   "execution_count": null,
   "metadata": {},
   "outputs": [],
   "source": []
  },
  {
   "cell_type": "code",
   "execution_count": null,
   "metadata": {},
   "outputs": [],
   "source": []
  }
 ],
 "metadata": {
  "kernelspec": {
   "display_name": "Python 3",
   "language": "python",
   "name": "python3"
  },
  "language_info": {
   "codemirror_mode": {
    "name": "ipython",
    "version": 3
   },
   "file_extension": ".py",
   "mimetype": "text/x-python",
   "name": "python",
   "nbconvert_exporter": "python",
   "pygments_lexer": "ipython3",
   "version": "3.8.3"
  }
 },
 "nbformat": 4,
 "nbformat_minor": 5
}
