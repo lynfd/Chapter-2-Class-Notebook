{
 "cells": [
  {
   "cell_type": "markdown",
   "id": "0867ad4d",
   "metadata": {},
   "source": [
    "# Ch9 Classes"
   ]
  },
  {
   "cell_type": "markdown",
   "id": "97cdad50",
   "metadata": {},
   "source": [
    "### Python is an object oriented programming language.\n",
    "- Almost everything in Python is an object, with its properties and methods (Functions).\n",
    "- A Class is like an object constructor, or a \"blueprint\" for creating objects."
   ]
  },
  {
   "cell_type": "code",
   "execution_count": 12,
   "id": "49dca6fb",
   "metadata": {},
   "outputs": [
    {
     "name": "stdout",
     "output_type": "stream",
     "text": [
      "Angel\n",
      "Hill\n",
      "Employee full name: Angel Hill\n",
      "Employee full name: Angel Hill\n",
      "Employee full name: Peter White\n"
     ]
    }
   ],
   "source": [
    "class Employee():\n",
    "    #init is the constructor of the class\n",
    "    #self is used to represent the instance of a class\n",
    "    def __init__(self,first,last,age,dept): #method/function\n",
    "        self.first=first.title()\n",
    "        self.last=last.title()\n",
    "        self.age=age\n",
    "        self.dept=dept.title()\n",
    "        \n",
    "    def fullname(self):\n",
    "        return f\"Employee full name: {self.first} {self.last}\"\n",
    "        \n",
    "        \n",
    "emp_1=Employee(\"angel\",\"hill\",32,\"accounting\")\n",
    "emp_2=Employee(\"peter\",\"white\",35,\"finance\")\n",
    "\n",
    "print(emp_1.first)\n",
    "print(emp_1.last)\n",
    "print(f\"Employee full name: {emp_1.first} {emp_1.last}\")\n",
    "\n",
    "print(emp_1.fullname())\n",
    "print(emp_2.fullname())"
   ]
  },
  {
   "cell_type": "code",
   "execution_count": null,
   "id": "48e24dbb",
   "metadata": {},
   "outputs": [],
   "source": []
  },
  {
   "cell_type": "markdown",
   "id": "84216454",
   "metadata": {},
   "source": [
    "### Creating the Dog Class\n",
    "Each instance created from the Dog class will store a name and an age, and we’ll give each dog the ability to sit() and roll_over():"
   ]
  },
  {
   "cell_type": "code",
   "execution_count": 17,
   "id": "0eb1c142",
   "metadata": {},
   "outputs": [
    {
     "name": "stdout",
     "output_type": "stream",
     "text": [
      "Koda\n",
      "6\n",
      "Kipper\n",
      "14\n",
      "Koda is now sitting.\n",
      "Kipper has rolled over.\n"
     ]
    }
   ],
   "source": [
    "class Dog():\n",
    "    def __init__(self,name,age):\n",
    "        self.name=name\n",
    "        self.age=age\n",
    "        \n",
    "    def sit(self):\n",
    "        return f\"{self.name} is now sitting.\"\n",
    "    \n",
    "    def roll(self):\n",
    "        return f\"{self.name} has rolled over.\"\n",
    "    \n",
    "dog1=Dog(\"Koda\",6)\n",
    "dog2=Dog(\"Kipper\",14)\n",
    "\n",
    "print(dog1.name)\n",
    "print(dog1.age)\n",
    "print(dog2.name)\n",
    "print(dog2.age)\n",
    "\n",
    "print(dog1.sit())\n",
    "print(dog2.roll())"
   ]
  },
  {
   "cell_type": "code",
   "execution_count": null,
   "id": "002fac02",
   "metadata": {},
   "outputs": [],
   "source": []
  },
  {
   "cell_type": "markdown",
   "id": "c192bf49",
   "metadata": {},
   "source": [
    "#### Note:\n",
    "- By convention, capitalized names refer to classes in Python. \n",
    "- The parentheses in the class definition are empty because we’re creating this class from scratch.\n",
    "- All classes have a function called __init__(), which is always executed when the class is being initiated.\n",
    "- Use the __init__() function to assign values to object properties, or other operations that are necessary to do when the object is being created\n",
    "- Any variable prefixed with `self` is available to every method in the class, and we’ll also be able to access these variables through any instance created from the class.\n",
    "- The Dog class has two other methods defined: sit() and roll_over().Because these methods don’t need additional information like a name or age, we just define them to have one parameter, self."
   ]
  },
  {
   "cell_type": "markdown",
   "id": "cfebf882",
   "metadata": {},
   "source": [
    "### Restaurant: Make a class called Restaurant. The __init__() method for Restaurant should store two attributes: a restaurant_name and a cuisine_type.\n",
    "- Make a method called `describe_restaurant()` that prints name of the restrurent and the cuisine type\n",
    "- and a method called open_restaurant() that prints a message indicating that the restaurant is open.\n",
    "- Make an instance called restaurant from your class. Print the two attributes individually, and then call both methods.\n"
   ]
  },
  {
   "cell_type": "code",
   "execution_count": 22,
   "id": "b2002a47",
   "metadata": {},
   "outputs": [
    {
     "name": "stdout",
     "output_type": "stream",
     "text": [
      "Le Relais\n",
      "French\n",
      "Le Relais has French kind of cooking.\n",
      "Le Relais is currently open.\n"
     ]
    }
   ],
   "source": [
    "class Restaurant():\n",
    "    def __init__(self,name,cuisine):\n",
    "        self.name=name\n",
    "        self.cuisine=cuisine\n",
    "        \n",
    "    def describe_restaurant(self):\n",
    "        return f\"{self.name} has {self.cuisine} kind of cooking.\"\n",
    "    \n",
    "    def open_restaurant(self):\n",
    "        return f\"{self.name} is currently open.\"\n",
    "    \n",
    "place=Restaurant(\"Le Relais\",\"French\")\n",
    "\n",
    "print(place.name)\n",
    "print(place.cuisine)\n",
    "\n",
    "print(place.describe_restaurant())\n",
    "print(place.open_restaurant())"
   ]
  },
  {
   "cell_type": "code",
   "execution_count": null,
   "id": "4b647111",
   "metadata": {},
   "outputs": [],
   "source": []
  },
  {
   "cell_type": "markdown",
   "id": "89462757",
   "metadata": {},
   "source": [
    "### - Create three different instances from the class, and call describe_restaurant() for each instance."
   ]
  },
  {
   "cell_type": "code",
   "execution_count": 21,
   "id": "fcad3176",
   "metadata": {},
   "outputs": [
    {
     "name": "stdout",
     "output_type": "stream",
     "text": [
      "Impellizaris\n",
      "Italian\n",
      "Impellizaris has Italian kind of cooking.\n",
      "Impellizaris is currently open.\n",
      "Malone's\n",
      "American\n",
      "Malone's has American kind of cooking.\n",
      "Malone's is currently open.\n"
     ]
    }
   ],
   "source": [
    "place2=Restaurant(\"Impellizaris\",\"Italian\")\n",
    "place3=Restaurant(\"Malone's\",\"American\")\n",
    "\n",
    "print(place2.name)\n",
    "print(place2.cuisine)\n",
    "\n",
    "print(place2.describe_restaurant())\n",
    "print(place2.open_restaurant())\n",
    "\n",
    "print(place3.name)\n",
    "print(place3.cuisine)\n",
    "\n",
    "print(place3.describe_restaurant())\n",
    "print(place3.open_restaurant())"
   ]
  },
  {
   "cell_type": "code",
   "execution_count": null,
   "id": "935a2cd5",
   "metadata": {},
   "outputs": [],
   "source": []
  },
  {
   "cell_type": "code",
   "execution_count": null,
   "id": "e4e6f104",
   "metadata": {},
   "outputs": [],
   "source": []
  },
  {
   "cell_type": "markdown",
   "id": "62abf0a6",
   "metadata": {},
   "source": [
    "### Users: Make a class called User. Create attributes called first_name and last_name, username, location \n",
    "- Make a method called describe_user() that prints a summary of the user’s information. \n",
    "- Make another method called greet_user() that prints a personalized greeting to the user.\n",
    "- Create several instances representing different users, and call both methods for each user."
   ]
  },
  {
   "cell_type": "code",
   "execution_count": 29,
   "id": "7e465bda",
   "metadata": {},
   "outputs": [
    {
     "name": "stdout",
     "output_type": "stream",
     "text": [
      "The user is called Mary Shelley, known as mshell563 on the computer. They are based in England\n",
      "mshell563 logged in. Hello Mary Shelley!\n",
      "The user is called Edgar Poe, known as heart38 on the computer. They are based in United States\n",
      "heart38 logged in. Hello Edgar Poe!\n",
      "The user is called Jonny Sims, known as tma21030 on the computer. They are based in England\n",
      "tma21030 logged in. Hello Jonny Sims!\n"
     ]
    }
   ],
   "source": [
    "class User():\n",
    "    def __init__(self,first,last,username,location):\n",
    "        self.first=first\n",
    "        self.last=last\n",
    "        self.username=username\n",
    "        self.location=location\n",
    "    \n",
    "    def describe(self):\n",
    "        return f\"The user is called {self.first} {self.last}, known as {self.username} on the computer. They are based in {self.location}\"\n",
    "    \n",
    "    def greet(self):\n",
    "        return f\"{self.username} logged in. Hello {self.first} {self.last}!\"\n",
    "\n",
    "user1=User(\"Mary\",\"Shelley\",\"mshell563\",\"England\")\n",
    "user2=User(\"Edgar\",\"Poe\",\"heart38\",\"United States\")\n",
    "user3=User(\"Jonny\",\"Sims\",\"tma21030\",\"England\")\n",
    "\n",
    "print(user1.describe())\n",
    "print(user1.greet())\n",
    "print(user2.describe())\n",
    "print(user2.greet())\n",
    "print(user3.describe())\n",
    "print(user3.greet())"
   ]
  },
  {
   "cell_type": "code",
   "execution_count": null,
   "id": "811d5668",
   "metadata": {},
   "outputs": [],
   "source": []
  },
  {
   "cell_type": "markdown",
   "id": "23d7ca46",
   "metadata": {},
   "source": [
    "## Setting a Default Value for an Attribute"
   ]
  },
  {
   "cell_type": "code",
   "execution_count": 30,
   "id": "beebbcca",
   "metadata": {},
   "outputs": [],
   "source": [
    "class car():\n",
    "    def __init__(self,make,model,year):\n",
    "        self.make=make\n",
    "        self.model=model\n",
    "        self.year=year\n",
    "        self.odometer_reading=0\n",
    "    \n",
    "    def get_descriptive_name(self):\n",
    "        long_name=str(self.year)+\" \"+self.make+\" \"+self.model\n",
    "        return long_name.title()\n",
    "    \n",
    "    def read_odometer(self):\n",
    "        print(f\"This car has {self.odometer_reading} miles on it.\")\n",
    "    \n",
    "    def update_odometer(self,milage):\n",
    "        self.odometer_reading+=milage"
   ]
  },
  {
   "cell_type": "code",
   "execution_count": 31,
   "id": "8ff0c4ee",
   "metadata": {},
   "outputs": [
    {
     "data": {
      "text/plain": [
       "'2013 Toyota Camry'"
      ]
     },
     "execution_count": 31,
     "metadata": {},
     "output_type": "execute_result"
    }
   ],
   "source": [
    "my_car=car(\"Toyota\",\"Camry\",2013)\n",
    "my_car.get_descriptive_name()"
   ]
  },
  {
   "cell_type": "code",
   "execution_count": 32,
   "id": "b6b20d34",
   "metadata": {},
   "outputs": [
    {
     "name": "stdout",
     "output_type": "stream",
     "text": [
      "This car has 0 miles on it.\n"
     ]
    }
   ],
   "source": [
    "my_car.read_odometer()"
   ]
  },
  {
   "cell_type": "code",
   "execution_count": 37,
   "id": "6d430e25",
   "metadata": {},
   "outputs": [
    {
     "name": "stdout",
     "output_type": "stream",
     "text": [
      "This car has 200 miles on it.\n"
     ]
    }
   ],
   "source": [
    "my_car.update_odometer(40)\n",
    "my_car.read_odometer()"
   ]
  },
  {
   "cell_type": "markdown",
   "id": "d115b9d3",
   "metadata": {},
   "source": [
    "#### Modifying an Attribute’s Value Directly"
   ]
  },
  {
   "cell_type": "code",
   "execution_count": null,
   "id": "abf0c676",
   "metadata": {},
   "outputs": [],
   "source": []
  },
  {
   "cell_type": "code",
   "execution_count": null,
   "id": "444c354b",
   "metadata": {},
   "outputs": [],
   "source": []
  },
  {
   "cell_type": "markdown",
   "id": "2372c670",
   "metadata": {},
   "source": [
    "### Modifying an Attribute’s Value Through a Method"
   ]
  },
  {
   "cell_type": "code",
   "execution_count": null,
   "id": "d7e99a1f",
   "metadata": {},
   "outputs": [],
   "source": []
  },
  {
   "cell_type": "code",
   "execution_count": null,
   "id": "4949d950",
   "metadata": {},
   "outputs": [],
   "source": []
  },
  {
   "cell_type": "markdown",
   "id": "7912475b",
   "metadata": {},
   "source": [
    "### Incrementing an Attribute’s Value Through a Method"
   ]
  },
  {
   "cell_type": "code",
   "execution_count": null,
   "id": "129cba02",
   "metadata": {},
   "outputs": [],
   "source": []
  },
  {
   "cell_type": "code",
   "execution_count": null,
   "id": "e0112b05",
   "metadata": {},
   "outputs": [],
   "source": []
  },
  {
   "cell_type": "markdown",
   "id": "0addfc39",
   "metadata": {},
   "source": [
    "# Inheritance\n",
    "- You don’t always have to start from scratch when writing a class. If the class you’re writing is a specialized version of another class you wrote, you can use inheritance. \n",
    "- When one class inherits from another, it automatically takes on all the attributes and methods of the first class. The original class is called the `parent class`, and the new class is the `child class`. \n",
    "- The child class inherits every attribute and method from its parent class but is also free to define new attributes and methods of its own."
   ]
  },
  {
   "cell_type": "code",
   "execution_count": 1,
   "id": "03d20dab",
   "metadata": {},
   "outputs": [],
   "source": [
    "class car():\n",
    "    def __init__(self,make,model,year):\n",
    "        self.make=make\n",
    "        self.model=model\n",
    "        self.year=year\n",
    "        self.odometer_reading=0\n",
    "    \n",
    "    def get_descriptive_name(self):\n",
    "        long_name=str(self.year)+\" \"+self.make+\" \"+self.model\n",
    "        return long_name.title()\n",
    "    \n",
    "    def read_odometer(self):\n",
    "        print(f\"This car has {self.odometer_reading} miles on it.\")\n",
    "    \n",
    "    def update_odometer(self,milage):\n",
    "        self.odometer_reading+=milage"
   ]
  },
  {
   "cell_type": "markdown",
   "id": "c3e58732",
   "metadata": {},
   "source": [
    "## Child Class"
   ]
  },
  {
   "cell_type": "code",
   "execution_count": 2,
   "id": "9ba17c43",
   "metadata": {},
   "outputs": [],
   "source": [
    "class ElectricCar(car):\n",
    "    def __init__(self,make,model,year):\n",
    "        super().__init__(make,model,year) #Inherited the parent class attributes"
   ]
  },
  {
   "cell_type": "code",
   "execution_count": 3,
   "id": "562b321a",
   "metadata": {},
   "outputs": [
    {
     "name": "stdout",
     "output_type": "stream",
     "text": [
      "2021 Tesla X\n"
     ]
    }
   ],
   "source": [
    "My_Tesla=ElectricCar(\"Tesla\",\"X\",2021)\n",
    "print(My_Tesla.get_descriptive_name())"
   ]
  },
  {
   "cell_type": "markdown",
   "id": "14737c77",
   "metadata": {},
   "source": [
    "### Practice: Create a class named Person, with firstname and lastname properties, and a printname method:"
   ]
  },
  {
   "cell_type": "code",
   "execution_count": 6,
   "id": "3186117b",
   "metadata": {},
   "outputs": [
    {
     "name": "stdout",
     "output_type": "stream",
     "text": [
      "This person's name is Alexander Newall\n"
     ]
    }
   ],
   "source": [
    "class person():\n",
    "    def __init__(self,fname,lname):\n",
    "        self.fname=fname\n",
    "        self.lname=lname\n",
    "    \n",
    "    def printname(self):\n",
    "        fullname=self.fname + \" \" + self.lname\n",
    "        print(f\"This person's name is {fullname.title()}\")\n",
    "    \n",
    "name1=person(\"Alexander\",\"Newall\")\n",
    "\n",
    "name1.printname()"
   ]
  },
  {
   "cell_type": "markdown",
   "id": "7d606df8",
   "metadata": {},
   "source": [
    "### Create child classes called Student using Inheritance contains the first and last name and the graduation year \n",
    "- Add a method called `welcome` that prints the student graduation year\n",
    "- Test the student method for two students"
   ]
  },
  {
   "cell_type": "code",
   "execution_count": 8,
   "id": "f1da05fc",
   "metadata": {},
   "outputs": [
    {
     "name": "stdout",
     "output_type": "stream",
     "text": [
      "Welcome Dana Cardinal to the class of 2011!\n",
      "Welcome Sasha James to the class of 2015!\n"
     ]
    }
   ],
   "source": [
    "class Student(person):\n",
    "    def __init__(self,fname,lname,gradyear):\n",
    "        super().__init__(fname,lname)\n",
    "        self.gradyear=gradyear\n",
    "    \n",
    "    def welcome(self):\n",
    "        long_name=self.fname+\" \"+self.lname\n",
    "        return f\"Welcome {long_name.title()} to the class of {self.gradyear}!\"\n",
    "\n",
    "student1=Student(\"Dana\",\"Cardinal\",2011)\n",
    "student2=Student(\"Sasha\",\"James\",2015)\n",
    "\n",
    "print(student1.welcome())\n",
    "print(student2.welcome())"
   ]
  },
  {
   "cell_type": "markdown",
   "id": "92171d27",
   "metadata": {},
   "source": [
    "## Create rectangle and square classes and create methods for calculating the area and perimeter"
   ]
  },
  {
   "cell_type": "code",
   "execution_count": 11,
   "id": "40ea2aa4",
   "metadata": {},
   "outputs": [
    {
     "name": "stdout",
     "output_type": "stream",
     "text": [
      "64 is the area\n",
      "32 is the perimeter\n",
      "12 is the area\n",
      "14 is the perimeter\n"
     ]
    }
   ],
   "source": [
    "class square():\n",
    "    def __init__(self,length):\n",
    "        self.length=length\n",
    "    \n",
    "    def area_sqr(self):\n",
    "        return f\"{self.length*self.length} is the area\"\n",
    "        \n",
    "    def peri_sqr(self):\n",
    "        return f\"{self.length*4} is the perimeter\"\n",
    "        \n",
    "class rectangle():\n",
    "    def __init__(self,length,width):\n",
    "        self.length=length\n",
    "        self.width=width\n",
    "    \n",
    "    def area_rect(self):\n",
    "        return f\"{self.length*self.width} is the area\"\n",
    "    \n",
    "    def peri_rect(self):\n",
    "        return f\"{self.length*2 + self.width*2} is the perimeter\"\n",
    "    \n",
    "square=square(8)\n",
    "rectangle=rectangle(3,4)\n",
    "\n",
    "print(square.area_sqr())\n",
    "print(square.peri_sqr())\n",
    "print(rectangle.area_rect())\n",
    "print(rectangle.peri_rect())"
   ]
  },
  {
   "cell_type": "markdown",
   "id": "d77dc493",
   "metadata": {},
   "source": [
    "## Use inheritence to create the square class from parent class rectangle"
   ]
  },
  {
   "cell_type": "code",
   "execution_count": 25,
   "id": "47d543a0",
   "metadata": {},
   "outputs": [
    {
     "name": "stdout",
     "output_type": "stream",
     "text": [
      "9\n",
      "12\n",
      "81\n",
      "36\n"
     ]
    }
   ],
   "source": [
    "class Rectangle:\n",
    "    def __init__(self, length, width):\n",
    "        self.length = length\n",
    "        self.width = width\n",
    "\n",
    "    def area(self):\n",
    "        return self.length * self.width\n",
    "\n",
    "    def perimeter(self):\n",
    "        return 2 * self.length + 2 * self.width\n",
    "\n",
    "class Square1(Rectangle):\n",
    "    def __init__(self, length):\n",
    "        super().__init__(length,length)\n",
    "\n",
    "square2=Square1(3)\n",
    "square3=Square1(9)\n",
    "print(square2.area())\n",
    "print(square2.perimeter())\n",
    "print(square3.area())\n",
    "print(square3.perimeter())"
   ]
  },
  {
   "cell_type": "markdown",
   "id": "ebc5993d",
   "metadata": {},
   "source": [
    "## Create a simple calculator using classes"
   ]
  },
  {
   "cell_type": "code",
   "execution_count": 1,
   "id": "d1edd280",
   "metadata": {},
   "outputs": [
    {
     "name": "stdout",
     "output_type": "stream",
     "text": [
      "Chose from the following menu: \n",
      "1. Addition\n",
      "2. Subtraction\n",
      "3. Multiplication\n",
      "4. Division\n",
      "5. Quit\n",
      "Enter choice (1-5). 1\n",
      "Enter first number: 3\n",
      "Enter second number: 6\n",
      "Addition= 9\n",
      "Chose from the following menu: \n",
      "1. Addition\n",
      "2. Subtraction\n",
      "3. Multiplication\n",
      "4. Division\n",
      "5. Quit\n",
      "Enter choice (1-5). 2\n",
      "Enter first number: 3\n",
      "Enter second number: 1\n",
      "Subtraction= 2\n",
      "Chose from the following menu: \n",
      "1. Addition\n",
      "2. Subtraction\n",
      "3. Multiplication\n",
      "4. Division\n",
      "5. Quit\n",
      "Enter choice (1-5). 3\n",
      "Enter first number: 7\n",
      "Enter second number: 4\n",
      "Multiplication= 28\n",
      "Chose from the following menu: \n",
      "1. Addition\n",
      "2. Subtraction\n",
      "3. Multiplication\n",
      "4. Division\n",
      "5. Quit\n",
      "Enter choice (1-5). 4\n",
      "Enter first number: 18\n",
      "Enter second number: 9\n",
      "Division= 2.0\n",
      "Chose from the following menu: \n",
      "1. Addition\n",
      "2. Subtraction\n",
      "3. Multiplication\n",
      "4. Division\n",
      "5. Quit\n",
      "Enter choice (1-5). 5\n"
     ]
    }
   ],
   "source": [
    "class calc():\n",
    "    def __init__(self,input1,input2):\n",
    "        self.input1=input1\n",
    "        self.input2=input2\n",
    "        \n",
    "    def addition(num1,num2):\n",
    "        print(f'Addition= {num1+num2}')\n",
    "    \n",
    "    def subtraction(num1,num2):\n",
    "        print(f'Subtraction= {num1-num2}')\n",
    "    \n",
    "    def multiplication(num1,num2):\n",
    "        print(f'Multiplication= {num1*num2}')\n",
    "        \n",
    "    def division(num1,num2):\n",
    "        print(f'Division= {num1/num2}')\n",
    "while True:        \n",
    "    print('Chose from the following menu: ')\n",
    "    print('1. Addition')\n",
    "    print('2. Subtraction')\n",
    "    print('3. Multiplication')\n",
    "    print('4. Division')\n",
    "    print('5. Quit')\n",
    "\n",
    "    choice=int(input(\"Enter choice (1-5). \"))\n",
    "\n",
    "    if choice==1:\n",
    "        num1=int(input(\"Enter first number: \"))\n",
    "        num2=int(input(\"Enter second number: \"))\n",
    "        calc.addition(num1,num2)\n",
    "    elif choice==2:\n",
    "        num1=int(input(\"Enter first number: \"))\n",
    "        num2=int(input(\"Enter second number: \"))\n",
    "        calc.subtraction(num1,num2)\n",
    "    elif choice==3:\n",
    "        num1=int(input(\"Enter first number: \"))\n",
    "        num2=int(input(\"Enter second number: \"))\n",
    "        calc.multiplication(num1,num2)\n",
    "    elif choice==4:\n",
    "        num1=int(input(\"Enter first number: \"))\n",
    "        num2=int(input(\"Enter second number: \"))\n",
    "        if num2==0:\n",
    "            print(\"Not divisible by 0\")\n",
    "        else:\n",
    "            calc.division(num1,num2)\n",
    "    elif choice==5:\n",
    "        break\n",
    "    else:\n",
    "        print(\"Not a valid input.\")"
   ]
  },
  {
   "cell_type": "markdown",
   "id": "780ffcb6",
   "metadata": {},
   "source": [
    "## ATM machine "
   ]
  },
  {
   "cell_type": "code",
   "execution_count": 11,
   "id": "f0bfcef2",
   "metadata": {},
   "outputs": [],
   "source": [
    "class atm():\n",
    "    def __init__(self):\n",
    "        self.balance=0\n",
    "        print(\"Hello welcome to the ATM.\")\n",
    "    \n",
    "    def deposit(self):\n",
    "        amount=float(input(\"Enter the amount to deposit.\"))\n",
    "        self.balance+=amount\n",
    "        print(f\"The amount deposited: \",amount)\n",
    "    \n",
    "    def withdraw(self):\n",
    "        amount=float(input(\"Enter the amount to withdraw.\"))\n",
    "        if amount>self.balance:\n",
    "            print(\"You cannot withdraw that amount of money at this time.\")\n",
    "        else:\n",
    "            self.balance-=amount\n",
    "            print(f\"The amount withdrawn:\",amount)\n",
    "            \n",
    "    def display(self):\n",
    "        print(\"The available balance is \",self.balance)"
   ]
  },
  {
   "cell_type": "code",
   "execution_count": 12,
   "id": "ac2b27f5",
   "metadata": {},
   "outputs": [
    {
     "name": "stdout",
     "output_type": "stream",
     "text": [
      "Hello welcome to the ATM.\n",
      "Enter the amount to deposit.500\n",
      "The amount deposited:  500.0\n"
     ]
    }
   ],
   "source": [
    "my_account=atm()\n",
    "my_account.deposit()"
   ]
  },
  {
   "cell_type": "code",
   "execution_count": 13,
   "id": "88a9d8d9",
   "metadata": {},
   "outputs": [
    {
     "name": "stdout",
     "output_type": "stream",
     "text": [
      "Enter the amount to deposit.1000\n",
      "The amount deposited:  1000.0\n",
      "The available balance is  1500.0\n"
     ]
    }
   ],
   "source": [
    "my_account.deposit()\n",
    "my_account.display()"
   ]
  },
  {
   "cell_type": "code",
   "execution_count": 14,
   "id": "90e73867",
   "metadata": {},
   "outputs": [
    {
     "name": "stdout",
     "output_type": "stream",
     "text": [
      "Enter the amount to withdraw.1200\n",
      "The amount withdrawn: 1200.0\n"
     ]
    }
   ],
   "source": [
    "my_account.withdraw()"
   ]
  },
  {
   "cell_type": "code",
   "execution_count": 15,
   "id": "a695ff26",
   "metadata": {},
   "outputs": [
    {
     "name": "stdout",
     "output_type": "stream",
     "text": [
      "The available balance is  300.0\n"
     ]
    }
   ],
   "source": [
    "my_account.display()"
   ]
  }
 ],
 "metadata": {
  "kernelspec": {
   "display_name": "Python 3 (ipykernel)",
   "language": "python",
   "name": "python3"
  },
  "language_info": {
   "codemirror_mode": {
    "name": "ipython",
    "version": 3
   },
   "file_extension": ".py",
   "mimetype": "text/x-python",
   "name": "python",
   "nbconvert_exporter": "python",
   "pygments_lexer": "ipython3",
   "version": "3.9.12"
  }
 },
 "nbformat": 4,
 "nbformat_minor": 5
}
