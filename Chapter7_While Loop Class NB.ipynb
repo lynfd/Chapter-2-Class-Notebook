{
 "cells": [
  {
   "cell_type": "markdown",
   "metadata": {},
   "source": [
    "# While Loop\n",
    "* The for loop takes a collection of items and executes a block of code once for each item in the collection. \n",
    "* In contrast, the while loop runs as long as, or while, a certain condition is true."
   ]
  },
  {
   "cell_type": "markdown",
   "metadata": {},
   "source": [
    "## The while Loop in Action\n",
    "You can use a while loop to count up through a series of numbers. For\n",
    "example, the following while loop counts from 1 to 5:\n"
   ]
  },
  {
   "cell_type": "code",
   "execution_count": 1,
   "metadata": {},
   "outputs": [
    {
     "name": "stdout",
     "output_type": "stream",
     "text": [
      "1\n",
      "2\n",
      "3\n",
      "4\n",
      "5\n"
     ]
    }
   ],
   "source": [
    "current_number=1\n",
    "while current_number<=5:\n",
    "    print(current_number)\n",
    "    current_number+=1"
   ]
  },
  {
   "cell_type": "code",
   "execution_count": 2,
   "metadata": {},
   "outputs": [
    {
     "name": "stdout",
     "output_type": "stream",
     "text": [
      "20\n",
      "21\n",
      "22\n",
      "23\n",
      "24\n",
      "25\n",
      "26\n",
      "27\n",
      "28\n",
      "29\n",
      "30\n"
     ]
    }
   ],
   "source": [
    "number=20\n",
    "while number<=30:\n",
    "    print(number)\n",
    "    number+=1"
   ]
  },
  {
   "cell_type": "markdown",
   "metadata": {},
   "source": [
    "## Letting the User Choose When to Quit"
   ]
  },
  {
   "cell_type": "code",
   "execution_count": 3,
   "metadata": {},
   "outputs": [
    {
     "name": "stdout",
     "output_type": "stream",
     "text": [
      "Tell me something and I will repeat it back to you. Enter quit to end the program.Hello\n",
      "Hello\n",
      "Tell me something and I will repeat it back to you. Enter quit to end the program.quit\n",
      "quit\n"
     ]
    }
   ],
   "source": [
    "prompt=\"Tell me something and I will repeat it back to you. Enter quit to end the program.\"\n",
    "message=\"\"\n",
    "while message!='quit':\n",
    "    message=input(prompt)\n",
    "    print(message)"
   ]
  },
  {
   "cell_type": "markdown",
   "metadata": {},
   "source": [
    "## A Flag"
   ]
  },
  {
   "cell_type": "code",
   "execution_count": 5,
   "metadata": {},
   "outputs": [
    {
     "name": "stdout",
     "output_type": "stream",
     "text": [
      "Echo the code. Enter quit to end the program: Hello\n",
      "Hello\n",
      "Echo the code. Enter quit to end the program: Thursday\n",
      "Thursday\n",
      "Echo the code. Enter quit to end the program: quit\n"
     ]
    }
   ],
   "source": [
    "prompt=\"Echo the code. Enter quit to end the program: \"\n",
    "# Flag\n",
    "active= True\n",
    "message=\"\"\n",
    "while active:\n",
    "    message=input(prompt)\n",
    "    if message=='quit':\n",
    "        active= False\n",
    "    else:\n",
    "        print(message)"
   ]
  },
  {
   "cell_type": "markdown",
   "metadata": {
    "slideshow": {
     "slide_type": "subslide"
    }
   },
   "source": [
    "### For a program that should run only as long as many conditions are true, you can define one variable that determines whether or not the entire program is active. This variable, called a `flag`, acts as a signal to the program."
   ]
  },
  {
   "cell_type": "code",
   "execution_count": null,
   "metadata": {},
   "outputs": [],
   "source": []
  },
  {
   "cell_type": "code",
   "execution_count": null,
   "metadata": {},
   "outputs": [],
   "source": []
  },
  {
   "cell_type": "markdown",
   "metadata": {},
   "source": [
    "## Using break to Exit a Loop\n",
    "To exit a while loop immediately without running any remaining code in the\n",
    "loop, regardless of the results of any conditional test, use the break statement."
   ]
  },
  {
   "cell_type": "code",
   "execution_count": 7,
   "metadata": {},
   "outputs": [
    {
     "name": "stdout",
     "output_type": "stream",
     "text": [
      "Enter the name of the cities you want to visit. Enter quit to end the program.Dubai\n",
      "I would like to visit Dubai\n",
      "Enter the name of the cities you want to visit. Enter quit to end the program.Chicago\n",
      "I would like to visit Chicago\n",
      "Enter the name of the cities you want to visit. Enter quit to end the program.quit\n"
     ]
    }
   ],
   "source": [
    "prompt=\"Enter the name of the cities you want to visit. Enter quit to end the program.\"\n",
    "active=True\n",
    "while active:\n",
    "    city=input(prompt)\n",
    "    if city=='quit':\n",
    "        break\n",
    "    else:\n",
    "        print(\"I would like to visit\",city.title())"
   ]
  },
  {
   "cell_type": "code",
   "execution_count": null,
   "metadata": {},
   "outputs": [],
   "source": []
  },
  {
   "cell_type": "markdown",
   "metadata": {},
   "source": [
    "### Guess the number"
   ]
  },
  {
   "cell_type": "code",
   "execution_count": 12,
   "metadata": {},
   "outputs": [
    {
     "name": "stdout",
     "output_type": "stream",
     "text": [
      "Guess a number between 1 to 10: 8\n",
      "Guess again.\n",
      "Guess a number between 1 to 10: 1\n",
      "Guess again.\n",
      "Guess a number between 1 to 10: 2\n",
      "Guess again.\n",
      "Guess a number between 1 to 10: 5\n",
      "Guess again.\n",
      "Guess a number between 1 to 10: 6\n",
      "You have guessed correctly\n"
     ]
    }
   ],
   "source": [
    "prompt=\"Guess a number between 1 to 10: \"\n",
    "active=True\n",
    "while active:\n",
    "    number=int(input(prompt))\n",
    "    if number==6:\n",
    "        print(\"You have guessed correctly\")\n",
    "        break\n",
    "    else:\n",
    "        print(\"Guess again.\")"
   ]
  },
  {
   "cell_type": "code",
   "execution_count": null,
   "metadata": {},
   "outputs": [],
   "source": []
  },
  {
   "cell_type": "markdown",
   "metadata": {},
   "source": [
    "### Guess the number with proper direction"
   ]
  },
  {
   "cell_type": "code",
   "execution_count": 11,
   "metadata": {},
   "outputs": [
    {
     "name": "stdout",
     "output_type": "stream",
     "text": [
      "Guess a number between 1 to 10: 7\n",
      "Too high- go lower.\n",
      "Guess a number between 1 to 10: 2\n",
      "Too low- go higher.\n",
      "Guess a number between 1 to 10: 3\n",
      "Too low- go higher.\n",
      "Guess a number between 1 to 10: 6\n",
      "You have guessed correctly\n"
     ]
    }
   ],
   "source": [
    "prompt=\"Guess a number between 1 to 10: \"\n",
    "active=True\n",
    "while active:\n",
    "    number=int(input(prompt))\n",
    "    if number==6:\n",
    "        print(\"You have guessed correctly\")\n",
    "        break\n",
    "    elif number>6:\n",
    "        print(\"Too high- go lower.\")\n",
    "    else:\n",
    "        print(\"Too low- go higher.\")"
   ]
  },
  {
   "cell_type": "code",
   "execution_count": null,
   "metadata": {},
   "outputs": [],
   "source": []
  },
  {
   "cell_type": "markdown",
   "metadata": {},
   "source": [
    "### Break with for loop"
   ]
  },
  {
   "cell_type": "code",
   "execution_count": 14,
   "metadata": {},
   "outputs": [
    {
     "name": "stdout",
     "output_type": "stream",
     "text": [
      "1 2 3 4 5 6 7 8 9 10 11 12 13 14 15 16 17 18 19 20 21 22 23 24 25 26 27 28 29 30 31 32 33 34 35 36 37 38 39 "
     ]
    }
   ],
   "source": [
    "for number in range(1,101):\n",
    "    if number==40:\n",
    "        break\n",
    "    print(number,end=\" \")"
   ]
  },
  {
   "cell_type": "code",
   "execution_count": null,
   "metadata": {},
   "outputs": [],
   "source": []
  },
  {
   "cell_type": "markdown",
   "metadata": {},
   "source": [
    "### Using continue in a Loop\n",
    "- Rather than breaking out of a loop entirely without executing the rest of its code, \n",
    "- you can use the continue statement to return to the beginning of the loop based on the result of a conditional test. \n",
    "- For example, consider a loop that counts from 1 to 10 but prints only the odd numbers in that range:"
   ]
  },
  {
   "cell_type": "code",
   "execution_count": 15,
   "metadata": {},
   "outputs": [
    {
     "name": "stdout",
     "output_type": "stream",
     "text": [
      "1 2 3 4 5 6 7 8 9 10 11 12 13 14 15 16 17 18 19 20 21 22 23 24 25 26 27 28 29 30 31 32 33 34 35 36 37 38 39 41 42 43 44 45 46 47 48 49 50 51 52 53 54 55 56 57 58 59 60 61 62 63 64 65 66 67 68 69 70 71 72 73 74 75 76 77 78 79 80 81 82 83 84 85 86 87 88 89 90 91 92 93 94 95 96 97 98 99 100 "
     ]
    }
   ],
   "source": [
    "for number in range(1,101):\n",
    "    if number==40:\n",
    "        continue\n",
    "    print(number,end=\" \")"
   ]
  },
  {
   "cell_type": "code",
   "execution_count": null,
   "metadata": {},
   "outputs": [],
   "source": []
  },
  {
   "cell_type": "markdown",
   "metadata": {},
   "source": [
    "### consider a loop (while/for) that counts from 10 to 20 but prints only the even numbers in that range, use continue statement:"
   ]
  },
  {
   "cell_type": "code",
   "execution_count": 16,
   "metadata": {},
   "outputs": [
    {
     "name": "stdout",
     "output_type": "stream",
     "text": [
      "10\n",
      "12\n",
      "14\n",
      "16\n",
      "18\n",
      "20\n"
     ]
    }
   ],
   "source": [
    "for number in range(10,21):\n",
    "    if number%2!=0:\n",
    "        continue\n",
    "    else:\n",
    "        print(number)"
   ]
  },
  {
   "cell_type": "code",
   "execution_count": 2,
   "metadata": {},
   "outputs": [
    {
     "name": "stdout",
     "output_type": "stream",
     "text": [
      "1\n",
      "2\n",
      "3\n",
      "4\n",
      "5\n",
      "6\n",
      "7\n",
      "8\n",
      "9\n",
      "10\n",
      "11\n",
      "12\n",
      "13\n",
      "14\n",
      "15\n",
      "16\n",
      "17\n",
      "18\n",
      "19\n",
      "20\n"
     ]
    }
   ],
   "source": [
    "number=1\n",
    "while number<21:\n",
    "    print(number)\n",
    "    number+=1"
   ]
  },
  {
   "cell_type": "markdown",
   "metadata": {},
   "source": [
    "### Avoiding Infinite Loops"
   ]
  },
  {
   "cell_type": "code",
   "execution_count": null,
   "metadata": {},
   "outputs": [],
   "source": []
  },
  {
   "cell_type": "code",
   "execution_count": null,
   "metadata": {},
   "outputs": [],
   "source": []
  },
  {
   "cell_type": "markdown",
   "metadata": {},
   "source": [
    "### Movie Tickets: A movie theater charges different ticket prices depending on a person’s age. \n",
    "- If a person is under the age of 3, the ticket is free; if they are between 3 and 12, the ticket is 10 dollar\n",
    "- if they are over age 12, the ticket is 15 dollar. \n",
    "Write a while loop in which you ask users their age, and then tell them the cost of their movie ticket."
   ]
  },
  {
   "cell_type": "code",
   "execution_count": 18,
   "metadata": {},
   "outputs": [
    {
     "name": "stdout",
     "output_type": "stream",
     "text": [
      "How old are you? Enter quit when you are finished.3\n",
      "Tickets are 10 dollars.\n",
      "How old are you? Enter quit when you are finished.15\n",
      "Pay 15 dollars for tickets.\n",
      "How old are you? Enter quit when you are finished.quit\n"
     ]
    }
   ],
   "source": [
    "prompt=\"How old are you? Enter quit when you are finished.\"\n",
    "while True:\n",
    "    age=input(prompt)\n",
    "    if age=='quit':\n",
    "        break\n",
    "    age=int(age)\n",
    "    if age<3:\n",
    "        print(\"You can get in for free.\")\n",
    "    elif age<13:\n",
    "        print(\"Tickets are 10 dollars.\")\n",
    "    else:\n",
    "        print(\"Pay 15 dollars for tickets.\")"
   ]
  },
  {
   "cell_type": "code",
   "execution_count": null,
   "metadata": {},
   "outputs": [],
   "source": []
  },
  {
   "cell_type": "markdown",
   "metadata": {},
   "source": [
    "## Using a while Loop with Lists and Dictionaries"
   ]
  },
  {
   "cell_type": "markdown",
   "metadata": {},
   "source": [
    "### Moving Items from One List to Another"
   ]
  },
  {
   "cell_type": "code",
   "execution_count": 12,
   "metadata": {},
   "outputs": [
    {
     "name": "stdout",
     "output_type": "stream",
     "text": [
      "Veryifying user:  Candace\n",
      "Veryifying user:  Brian\n",
      "Veryifying user:  Alice\n",
      "Confirmed users: ['candace', 'brian', 'alice']\n",
      "The following users have been confirmed: \n",
      "\t\t\t\t\t Candace\n",
      "\t\t\t\t\t Brian\n",
      "\t\t\t\t\t Alice\n"
     ]
    }
   ],
   "source": [
    "unconfirmed_user=['alice','brian','candace']\n",
    "confirmed_user=[]\n",
    "\n",
    "# verify each user until there are no more unconfirmed users.\n",
    "# move each verified user into the list of confirmed users.\n",
    "while unconfirmed_user:\n",
    "    current_user=unconfirmed_user.pop()\n",
    "    print(\"Veryifying user: \", current_user.title())\n",
    "    confirmed_user.append(current_user)\n",
    "print(\"Confirmed users:\",confirmed_user)\n",
    "    \n",
    "# display all confirmed users.\n",
    "print(\"The following users have been confirmed: \")\n",
    "for users in confirmed_user:\n",
    "    print(\"\\t\\t\\t\\t\\t\",users.title())"
   ]
  },
  {
   "cell_type": "code",
   "execution_count": null,
   "metadata": {},
   "outputs": [],
   "source": []
  },
  {
   "cell_type": "markdown",
   "metadata": {},
   "source": [
    "### Removing All Instances of Specific Values from a List"
   ]
  },
  {
   "cell_type": "code",
   "execution_count": 16,
   "metadata": {},
   "outputs": [
    {
     "name": "stdout",
     "output_type": "stream",
     "text": [
      "['dog', 'dog', 'goldfish', 'rabbit']\n",
      "['goldfish', 'rabbit']\n"
     ]
    }
   ],
   "source": [
    "pets=['dog','cat','dog','goldfish','cat','rabbit','cat']\n",
    "while 'cat' in pets:\n",
    "    pets.remove('cat')\n",
    "print(pets)\n",
    "while 'dog' in pets:\n",
    "    pets.remove('dog')\n",
    "print(pets)"
   ]
  },
  {
   "cell_type": "code",
   "execution_count": null,
   "metadata": {},
   "outputs": [],
   "source": []
  },
  {
   "cell_type": "markdown",
   "metadata": {},
   "source": [
    "### Filling a Dictionary with User Input"
   ]
  },
  {
   "cell_type": "code",
   "execution_count": 3,
   "metadata": {},
   "outputs": [
    {
     "name": "stdout",
     "output_type": "stream",
     "text": [
      "Enter your name: Lyn\n",
      "What country do you want to visit? Italy\n",
      "Would you like to let another person respond? (yes/no)yes\n",
      "Enter your name: Brenna\n",
      "What country do you want to visit? Japan\n",
      "Would you like to let another person respond? (yes/no)yes\n",
      "Enter your name: Aidan\n",
      "What country do you want to visit? Canada\n",
      "Would you like to let another person respond? (yes/no)no\n",
      "----Poll Results----\n",
      "Lyn would like to visit Italy\n",
      "Brenna would like to visit Japan\n",
      "Aidan would like to visit Canada\n"
     ]
    }
   ],
   "source": [
    "responses={}\n",
    "# Set a flag to True\n",
    "polling_active=True\n",
    "while polling_active:\n",
    "    name=input(\"Enter your name: \")\n",
    "    place=input(\"What country do you want to visit? \")\n",
    "    # Store the input in the dictionary\n",
    "    responses[name]=place\n",
    "    \n",
    "    #Find out if anyone else will take the poll.\n",
    "    repeat=input(\"Would you like to let another person respond? (yes/no)\")\n",
    "    if repeat=='no':\n",
    "        polling_active=False\n",
    "    else:\n",
    "        continue\n",
    "    \n",
    "# Polling is complete- Display results.\n",
    "print(\"----Poll Results----\")\n",
    "for name, place in responses.items():\n",
    "    print(name+\" would like to visit \"+place)"
   ]
  },
  {
   "cell_type": "markdown",
   "metadata": {},
   "source": [
    "## Create a dictionary with your name and favourite food"
   ]
  },
  {
   "cell_type": "code",
   "execution_count": 4,
   "metadata": {},
   "outputs": [
    {
     "name": "stdout",
     "output_type": "stream",
     "text": [
      "Enter your name: Anne\n",
      "What is your favourite food? Raspberries\n",
      "Would you like to let another person respond? (yes/no)yes\n",
      "Enter your name: catherine\n",
      "What is your favourite food? turkey\n",
      "Would you like to let another person respond? (yes/no)yes\n",
      "Enter your name: anna\n",
      "What is your favourite food? pheasant\n",
      "Would you like to let another person respond? (yes/no)no\n",
      "----Poll Results----\n",
      "Anne would like to eat pheasant\n",
      "Catherine would like to eat pheasant\n",
      "Anna would like to eat pheasant\n"
     ]
    }
   ],
   "source": [
    "responses={}\n",
    "# Set a flag to True\n",
    "polling_active=True\n",
    "while polling_active:\n",
    "    name=input(\"Enter your name: \")\n",
    "    food=input(\"What is your favourite food? \")\n",
    "    # Store the input in the dictionary\n",
    "    responses[name]=food\n",
    "    \n",
    "    #Find out if anyone else will take the poll.\n",
    "    repeat=input(\"Would you like to let another person respond? (yes/no)\")\n",
    "    if repeat=='no':\n",
    "        polling_active=False\n",
    "    else:\n",
    "        continue\n",
    "    \n",
    "# Polling is complete- Display results.\n",
    "print(\"----Poll Results----\")\n",
    "for name, place in responses.items():\n",
    "    print(name.title()+\" would like to eat \"+food)"
   ]
  },
  {
   "cell_type": "markdown",
   "metadata": {},
   "source": [
    "## Deli: Make a list called sandwich_orders and fill it with the names of various sandwiches. \n",
    "- Then make an empty list called finished_sandwiches. \n",
    "- Loop through the list of sandwich orders and print a message for each order, such as I made your tuna sandwich. \n",
    "- As each sandwich is made, move it to the list of finished sandwiches. \n",
    "- After all the sandwiches have been made, print a message listing each sandwich that was made."
   ]
  },
  {
   "cell_type": "code",
   "execution_count": 14,
   "metadata": {},
   "outputs": [
    {
     "name": "stdout",
     "output_type": "stream",
     "text": [
      "Making this order currently:  roast beef\n",
      "Making this order currently:  panini\n",
      "Making this order currently:  grilled cheese\n",
      "Making this order currently:  veggie\n",
      "These orders are now ready for pickup:  ['roast beef', 'panini', 'grilled cheese', 'veggie']\n"
     ]
    }
   ],
   "source": [
    "sandwich_orders=['veggie','grilled cheese','panini','roast beef']\n",
    "finished_sandwiches=[]\n",
    "\n",
    "#create a variable called current_sandwich\n",
    "while sandwich_orders:\n",
    "    current_sandwich=sandwich_orders.pop()\n",
    "    print(\"Making this order currently: \",current_sandwich)\n",
    "    finished_sandwiches.append(current_sandwich)\n",
    "print(\"These orders are now ready for pickup: \",finished_sandwiches)"
   ]
  },
  {
   "cell_type": "code",
   "execution_count": null,
   "metadata": {},
   "outputs": [],
   "source": []
  },
  {
   "cell_type": "markdown",
   "metadata": {},
   "source": [
    "## Write a program to print n natural number in descending order using a while loop.\n"
   ]
  },
  {
   "cell_type": "code",
   "execution_count": null,
   "metadata": {},
   "outputs": [],
   "source": [
    "n=int(input(\"Enter the range: \"))\n",
    "while(n!=0):\n",
    "    print(n)\n",
    "    n=n+1"
   ]
  },
  {
   "cell_type": "code",
   "execution_count": null,
   "metadata": {},
   "outputs": [],
   "source": []
  },
  {
   "cell_type": "markdown",
   "metadata": {},
   "source": [
    "## Factorial of a number"
   ]
  },
  {
   "cell_type": "code",
   "execution_count": null,
   "metadata": {},
   "outputs": [],
   "source": []
  },
  {
   "cell_type": "code",
   "execution_count": null,
   "metadata": {},
   "outputs": [],
   "source": []
  },
  {
   "cell_type": "markdown",
   "metadata": {},
   "source": [
    "## Take 10 integers from keyboard using loop and print their sum and average value on the screen"
   ]
  },
  {
   "cell_type": "code",
   "execution_count": null,
   "metadata": {},
   "outputs": [],
   "source": []
  },
  {
   "cell_type": "code",
   "execution_count": null,
   "metadata": {},
   "outputs": [],
   "source": []
  },
  {
   "attachments": {
    "image.png": {
     "image/png": "[encoded data removed]"
    }
   },
   "cell_type": "markdown",
   "metadata": {},
   "source": [
    "## Print the following patterns using loop :\n",
    "![image.png](attachment:image.png)"
   ]
  },
  {
   "cell_type": "code",
   "execution_count": 2,
   "metadata": {},
   "outputs": [
    {
     "name": "stdout",
     "output_type": "stream",
     "text": [
      "*\n",
      "**\n",
      "***\n",
      "****\n",
      "*****\n",
      "******\n",
      "*******\n",
      "********\n",
      "*********\n",
      "**********\n"
     ]
    }
   ],
   "source": [
    "i=1\n",
    "while i<=10:\n",
    "    print(i*\"*\")\n",
    "    i=i+1"
   ]
  },
  {
   "cell_type": "code",
   "execution_count": null,
   "metadata": {},
   "outputs": [],
   "source": []
  },
  {
   "cell_type": "markdown",
   "metadata": {},
   "source": [
    "## Write a program to display the first 7 multiples of 7.\n"
   ]
  },
  {
   "cell_type": "code",
   "execution_count": 4,
   "metadata": {},
   "outputs": [
    {
     "name": "stdout",
     "output_type": "stream",
     "text": [
      "0 7 14 21 28 35 42 49 "
     ]
    }
   ],
   "source": [
    "count=0\n",
    "for i in range(200):\n",
    "    if i%7==0:\n",
    "        print(i,end=\" \")\n",
    "        count=count+1\n",
    "        if count==8:\n",
    "            break"
   ]
  },
  {
   "cell_type": "code",
   "execution_count": null,
   "metadata": {},
   "outputs": [],
   "source": []
  },
  {
   "cell_type": "markdown",
   "metadata": {},
   "source": [
    "## Write a program that appends the square of each number to a new list."
   ]
  },
  {
   "cell_type": "code",
   "execution_count": null,
   "metadata": {},
   "outputs": [],
   "source": []
  },
  {
   "cell_type": "code",
   "execution_count": null,
   "metadata": {},
   "outputs": [],
   "source": []
  },
  {
   "cell_type": "markdown",
   "metadata": {},
   "source": [
    "## Separate positive and negative number from a list.\n",
    "x = [23,12,-4,23,-9,21,3,-45,-8]"
   ]
  },
  {
   "cell_type": "code",
   "execution_count": 6,
   "metadata": {},
   "outputs": [
    {
     "name": "stdout",
     "output_type": "stream",
     "text": [
      "Positive numbers: [23, 12, 23, 21, 3]\n",
      "Negative numbers: [-4, -9, -45, -8]\n"
     ]
    }
   ],
   "source": [
    "x = [23,12,-4,23,-9,21,3,-45,-8]\n",
    "pos=[]\n",
    "neg=[]\n",
    "for i in range (len(x)):\n",
    "    if x[i]<0:\n",
    "        neg.append(x[i])\n",
    "    else:\n",
    "        pos.append(x[i])\n",
    "print(\"Positive numbers:\",pos)\n",
    "print(\"Negative numbers:\",neg)"
   ]
  },
  {
   "cell_type": "code",
   "execution_count": null,
   "metadata": {},
   "outputs": [],
   "source": []
  }
 ],
 "metadata": {
  "celltoolbar": "Slideshow",
  "kernelspec": {
   "display_name": "Python 3",
   "language": "python",
   "name": "python3"
  },
  "language_info": {
   "codemirror_mode": {
    "name": "ipython",
    "version": 3
   },
   "file_extension": ".py",
   "mimetype": "text/x-python",
   "name": "python",
   "nbconvert_exporter": "python",
   "pygments_lexer": "ipython3",
   "version": "3.8.3"
  }
 },
 "nbformat": 4,
 "nbformat_minor": 2
}
